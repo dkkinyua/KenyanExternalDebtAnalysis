{
 "cells": [
  {
   "cell_type": "code",
   "execution_count": 1,
   "metadata": {},
   "outputs": [],
   "source": [
    "import requests\n",
    "import pandas as pd\n",
    "from sqlalchemy import create_engine"
   ]
  },
  {
   "cell_type": "markdown",
   "metadata": {},
   "source": [
    "### Extract data from World Bank API\n",
    "Get external data owed by Kenya from 2010 to 2024 using the DT.DOD.DECT.CD indicator as a parameter.\n"
   ]
  },
  {
   "cell_type": "code",
   "execution_count": 8,
   "metadata": {},
   "outputs": [
    {
     "name": "stdout",
     "output_type": "stream",
     "text": [
      "[{'countryName': 'KE', 'year': '2024', 'debtValue': None, 'indicator': 'External debt stocks, total (DOD, current US$)'}, {'countryName': 'KE', 'year': '2023', 'debtValue': 42910026054.2, 'indicator': 'External debt stocks, total (DOD, current US$)'}, {'countryName': 'KE', 'year': '2022', 'debtValue': 41556299639.8, 'indicator': 'External debt stocks, total (DOD, current US$)'}, {'countryName': 'KE', 'year': '2021', 'debtValue': 41219100011.5, 'indicator': 'External debt stocks, total (DOD, current US$)'}, {'countryName': 'KE', 'year': '2020', 'debtValue': 38038451074.1, 'indicator': 'External debt stocks, total (DOD, current US$)'}, {'countryName': 'KE', 'year': '2019', 'debtValue': 34970099589.9, 'indicator': 'External debt stocks, total (DOD, current US$)'}, {'countryName': 'KE', 'year': '2018', 'debtValue': 31433802015.7, 'indicator': 'External debt stocks, total (DOD, current US$)'}, {'countryName': 'KE', 'year': '2017', 'debtValue': 26951349499.4, 'indicator': 'External debt stocks, total (DOD, current US$)'}, {'countryName': 'KE', 'year': '2016', 'debtValue': 21057671043.3, 'indicator': 'External debt stocks, total (DOD, current US$)'}, {'countryName': 'KE', 'year': '2015', 'debtValue': 19783760501.7, 'indicator': 'External debt stocks, total (DOD, current US$)'}, {'countryName': 'KE', 'year': '2014', 'debtValue': 16911742536.7, 'indicator': 'External debt stocks, total (DOD, current US$)'}, {'countryName': 'KE', 'year': '2013', 'debtValue': 13775500738.7, 'indicator': 'External debt stocks, total (DOD, current US$)'}, {'countryName': 'KE', 'year': '2012', 'debtValue': 11832175543.2, 'indicator': 'External debt stocks, total (DOD, current US$)'}, {'countryName': 'KE', 'year': '2011', 'debtValue': 10042095566.4, 'indicator': 'External debt stocks, total (DOD, current US$)'}, {'countryName': 'KE', 'year': '2010', 'debtValue': 8885235532.9, 'indicator': 'External debt stocks, total (DOD, current US$)'}]\n"
     ]
    }
   ],
   "source": [
    "url = \"https://api.worldbank.org/v2/country/KE/indicator/DT.DOD.DECT.CD\"\n",
    "params = {\n",
    "    'date': '2010:2024',\n",
    "    'format': 'json'\n",
    "}\n",
    "\n",
    "response = requests.get(url, params=params)\n",
    "if response.status_code == 200:\n",
    "    rel_data = []\n",
    "    data = response.json()\n",
    "    for item in data[1]:\n",
    "        rel_data.append({\n",
    "            'countryName': item['country']['id'],\n",
    "            'year': item['date'],\n",
    "            'debtValue': item['value'],\n",
    "            'indicator': item['indicator']['value']\n",
    "        })\n",
    "    print(rel_data)\n",
    "else:\n",
    "    print(f\"Error fetching data: {response.status_code}, {response.text}\")"
   ]
  },
  {
   "cell_type": "code",
   "execution_count": 9,
   "metadata": {},
   "outputs": [
    {
     "data": {
      "text/html": [
       "<div>\n",
       "<style scoped>\n",
       "    .dataframe tbody tr th:only-of-type {\n",
       "        vertical-align: middle;\n",
       "    }\n",
       "\n",
       "    .dataframe tbody tr th {\n",
       "        vertical-align: top;\n",
       "    }\n",
       "\n",
       "    .dataframe thead th {\n",
       "        text-align: right;\n",
       "    }\n",
       "</style>\n",
       "<table border=\"1\" class=\"dataframe\">\n",
       "  <thead>\n",
       "    <tr style=\"text-align: right;\">\n",
       "      <th></th>\n",
       "      <th>countryName</th>\n",
       "      <th>year</th>\n",
       "      <th>debtValue</th>\n",
       "      <th>indicator</th>\n",
       "    </tr>\n",
       "  </thead>\n",
       "  <tbody>\n",
       "    <tr>\n",
       "      <th>0</th>\n",
       "      <td>KE</td>\n",
       "      <td>2024</td>\n",
       "      <td>NaN</td>\n",
       "      <td>External debt stocks, total (DOD, current US$)</td>\n",
       "    </tr>\n",
       "    <tr>\n",
       "      <th>1</th>\n",
       "      <td>KE</td>\n",
       "      <td>2023</td>\n",
       "      <td>4.291003e+10</td>\n",
       "      <td>External debt stocks, total (DOD, current US$)</td>\n",
       "    </tr>\n",
       "    <tr>\n",
       "      <th>2</th>\n",
       "      <td>KE</td>\n",
       "      <td>2022</td>\n",
       "      <td>4.155630e+10</td>\n",
       "      <td>External debt stocks, total (DOD, current US$)</td>\n",
       "    </tr>\n",
       "    <tr>\n",
       "      <th>3</th>\n",
       "      <td>KE</td>\n",
       "      <td>2021</td>\n",
       "      <td>4.121910e+10</td>\n",
       "      <td>External debt stocks, total (DOD, current US$)</td>\n",
       "    </tr>\n",
       "    <tr>\n",
       "      <th>4</th>\n",
       "      <td>KE</td>\n",
       "      <td>2020</td>\n",
       "      <td>3.803845e+10</td>\n",
       "      <td>External debt stocks, total (DOD, current US$)</td>\n",
       "    </tr>\n",
       "  </tbody>\n",
       "</table>\n",
       "</div>"
      ],
      "text/plain": [
       "  countryName  year     debtValue  \\\n",
       "0          KE  2024           NaN   \n",
       "1          KE  2023  4.291003e+10   \n",
       "2          KE  2022  4.155630e+10   \n",
       "3          KE  2021  4.121910e+10   \n",
       "4          KE  2020  3.803845e+10   \n",
       "\n",
       "                                        indicator  \n",
       "0  External debt stocks, total (DOD, current US$)  \n",
       "1  External debt stocks, total (DOD, current US$)  \n",
       "2  External debt stocks, total (DOD, current US$)  \n",
       "3  External debt stocks, total (DOD, current US$)  \n",
       "4  External debt stocks, total (DOD, current US$)  "
      ]
     },
     "execution_count": 9,
     "metadata": {},
     "output_type": "execute_result"
    }
   ],
   "source": [
    "df = pd.DataFrame(rel_data)\n",
    "df.head()"
   ]
  },
  {
   "cell_type": "code",
   "execution_count": 10,
   "metadata": {},
   "outputs": [
    {
     "data": {
      "text/html": [
       "<div>\n",
       "<style scoped>\n",
       "    .dataframe tbody tr th:only-of-type {\n",
       "        vertical-align: middle;\n",
       "    }\n",
       "\n",
       "    .dataframe tbody tr th {\n",
       "        vertical-align: top;\n",
       "    }\n",
       "\n",
       "    .dataframe thead th {\n",
       "        text-align: right;\n",
       "    }\n",
       "</style>\n",
       "<table border=\"1\" class=\"dataframe\">\n",
       "  <thead>\n",
       "    <tr style=\"text-align: right;\">\n",
       "      <th></th>\n",
       "      <th>countryName</th>\n",
       "      <th>year</th>\n",
       "      <th>debtValue</th>\n",
       "      <th>indicator</th>\n",
       "    </tr>\n",
       "  </thead>\n",
       "  <tbody>\n",
       "    <tr>\n",
       "      <th>1</th>\n",
       "      <td>KE</td>\n",
       "      <td>2023</td>\n",
       "      <td>4.291003e+10</td>\n",
       "      <td>External debt stocks, total (DOD, current US$)</td>\n",
       "    </tr>\n",
       "    <tr>\n",
       "      <th>2</th>\n",
       "      <td>KE</td>\n",
       "      <td>2022</td>\n",
       "      <td>4.155630e+10</td>\n",
       "      <td>External debt stocks, total (DOD, current US$)</td>\n",
       "    </tr>\n",
       "    <tr>\n",
       "      <th>3</th>\n",
       "      <td>KE</td>\n",
       "      <td>2021</td>\n",
       "      <td>4.121910e+10</td>\n",
       "      <td>External debt stocks, total (DOD, current US$)</td>\n",
       "    </tr>\n",
       "    <tr>\n",
       "      <th>4</th>\n",
       "      <td>KE</td>\n",
       "      <td>2020</td>\n",
       "      <td>3.803845e+10</td>\n",
       "      <td>External debt stocks, total (DOD, current US$)</td>\n",
       "    </tr>\n",
       "    <tr>\n",
       "      <th>5</th>\n",
       "      <td>KE</td>\n",
       "      <td>2019</td>\n",
       "      <td>3.497010e+10</td>\n",
       "      <td>External debt stocks, total (DOD, current US$)</td>\n",
       "    </tr>\n",
       "  </tbody>\n",
       "</table>\n",
       "</div>"
      ],
      "text/plain": [
       "  countryName  year     debtValue  \\\n",
       "1          KE  2023  4.291003e+10   \n",
       "2          KE  2022  4.155630e+10   \n",
       "3          KE  2021  4.121910e+10   \n",
       "4          KE  2020  3.803845e+10   \n",
       "5          KE  2019  3.497010e+10   \n",
       "\n",
       "                                        indicator  \n",
       "1  External debt stocks, total (DOD, current US$)  \n",
       "2  External debt stocks, total (DOD, current US$)  \n",
       "3  External debt stocks, total (DOD, current US$)  \n",
       "4  External debt stocks, total (DOD, current US$)  \n",
       "5  External debt stocks, total (DOD, current US$)  "
      ]
     },
     "execution_count": 10,
     "metadata": {},
     "output_type": "execute_result"
    }
   ],
   "source": [
    "# drop first row with NaN value\n",
    "df.dropna(inplace=True)\n",
    "df.head()"
   ]
  },
  {
   "cell_type": "code",
   "execution_count": 12,
   "metadata": {},
   "outputs": [
    {
     "data": {
      "text/plain": [
       "countryName     object\n",
       "year            object\n",
       "debtValue      float64\n",
       "indicator       object\n",
       "dtype: object"
      ]
     },
     "execution_count": 12,
     "metadata": {},
     "output_type": "execute_result"
    }
   ],
   "source": [
    "df.dtypes"
   ]
  },
  {
   "cell_type": "code",
   "execution_count": null,
   "metadata": {},
   "outputs": [],
   "source": [
    "import os\n",
    "from dotenv import load_dotenv\n",
    "\n",
    "load_dotenv()\n",
    "DB_URL = os.getenv(\"DB_URL\")\n",
    "\n",
    "engine = create_engine(DB_URL)\n",
    "try:\n",
    "    df.to_sql('external_debt', con=engine, index=False, if_exists='replace')\n",
    "    print(\"Data loaded successfully!\")\n",
    "except Exception as e:\n",
    "    print(f\"Loading into Postgres DB error: {e}\")"
   ]
  }
 ],
 "metadata": {
  "kernelspec": {
   "display_name": "myenv",
   "language": "python",
   "name": "python3"
  },
  "language_info": {
   "codemirror_mode": {
    "name": "ipython",
    "version": 3
   },
   "file_extension": ".py",
   "mimetype": "text/x-python",
   "name": "python",
   "nbconvert_exporter": "python",
   "pygments_lexer": "ipython3",
   "version": "3.12.2"
  }
 },
 "nbformat": 4,
 "nbformat_minor": 2
}
